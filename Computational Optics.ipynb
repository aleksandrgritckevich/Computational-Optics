{
 "cells": [
  {
   "cell_type": "code",
   "execution_count": 2,
   "id": "5d776276",
   "metadata": {},
   "outputs": [],
   "source": [
    "from rayoptics.environment import *\n",
    "import numpy as np\n",
    "\n",
    "import warnings\n",
    "warnings.filterwarnings(\"ignore\")"
   ]
  },
  {
   "cell_type": "code",
   "execution_count": 3,
   "id": "9ef32c40",
   "metadata": {},
   "outputs": [],
   "source": [
    "# Создаем модель\n",
    "opm = OpticalModel()\n",
    "sm  = opm['seq_model']\n",
    "osp = opm['optical_spec']\n",
    "\n",
    "# Я сильно уменьшил размер апертуры по сравнению с бенчмарком.\n",
    "osp['pupil'] = PupilSpec(osp, key=['image', 'f/#'], value=0.30131998999999626)\n",
    "\n",
    "# FOV и WVLS просто копирую из бенчмарка.\n",
    "osp['fov'] = FieldSpec(osp)\n",
    "osp['fov'].fields = [Field(x=0.0, y=0.0, wt=1.0),Field(x=0.0, y=5.0, wt=1.0),\\\n",
    "                                         Field(x=0.0, y=10.0, wt=1.0),Field(x=0.0, y=15.0, wt=1.0),\\\n",
    "                                         Field(x=0.0, y=20.0, wt=1.0)]\n",
    "osp['fov'].key = ('field', 'object', 'angle')\n",
    "\n",
    "osp['wvls'] = WvlSpec()\n",
    "osp['wvls'].wavelengths = [470.0, 650.0]\n",
    "osp['wvls'].reference_wvl = 1\n",
    "osp['wvls'].spectral_wts = [1.0, 1.0]\n",
    "\n",
    "\n",
    "# Далее модель с двумя линзами из бенчмарка, но с оптимизированными параметрами плюс дополнительная третья \n",
    "#линза сразу после второй.           \n",
    "sm.gaps[0].thi=1e10  \n",
    "\n",
    "sm.add_surface([0.2717923174694473,1.0093899999999778,np.array(1.5403884999999808),np.array(348.8472218999811)])\n",
    "sm.ifcs[sm.cur_surface].profile = EvenPolynomial(c=0.2717923174694473, cc=0.15697591101794836,\\\n",
    "                                                 coefs=[-0.0012042246191165777, 0.0042613573578818365,\\\n",
    "                                                        -0.03210139254632034, 0.018546735092711743,\\\n",
    "                                                        -0.00616184212881032, 3.024000000000001e-05, 0.0, 0.0])\n",
    "opm['seq_model'].set_stop()\n",
    "    \n",
    "\n",
    "sm.add_surface([0.1368758294495027, np.array(0.59124119999997)])\n",
    "sm.ifcs[sm.cur_surface].profile = EvenPolynomial(c=0.1368758294495027, cc=0.5812881552192626,\\\n",
    "                                                 coefs=[0.007229896420552536, -0.021134633893451604,\\\n",
    "                                                        -0.025575079955217225, 0.011000003516981029,\\\n",
    "                                                        -0.007129859605409476, 0.0, 0.0, 0.0])\n",
    "\n",
    "sm.add_surface([-0.053029803982244716,np.array(1.0151412999999758),np.array(1.6809257999999738),np.array(580.1384019000405)])\n",
    "sm.ifcs[sm.cur_surface].profile = EvenPolynomial(c=-0.053029803982244716, cc=-0.10505017499765747,\\\n",
    "                                                 coefs=[0.0038338206292941727, -0.021680297525187558,\\\n",
    "                                                        0.011135587509517332, -0.02131489962249616,\\\n",
    "                                                        0.006307280118978557, -0.000206830000000003, 0.0, 0.0])\n",
    "    \n",
    "    \n",
    "sm.add_surface([-0.2592200000000006,0.20014999999999655,np.array(0.9999909999999866),0.72245])\n",
    "sm.ifcs[sm.cur_surface].profile = EvenPolynomial(c=-0.2592200000000006, cc=0.2098551750000003,\\\n",
    "                                                 coefs=[3.0000000000000004e-09, -7.297299999999997e-05,\\\n",
    "                                                        -7.266999999999995e-05, 0.0, -0.0, 0.0, 0.0, 0.0])\n",
    "    \n",
    "sm.add_surface([-0.25923884749269116, 3.9974485900001637])\n",
    "sm.ifcs[sm.cur_surface].profile = Spherical(c=-0.25923884749269116)\n",
    "\n",
    "opm.update_model()"
   ]
  },
  {
   "cell_type": "code",
   "execution_count": 4,
   "id": "13648f71",
   "metadata": {},
   "outputs": [],
   "source": [
    "opm.save_model(\"final_model.roa\")"
   ]
  }
 ],
 "metadata": {
  "kernelspec": {
   "display_name": "Python 3 (ipykernel)",
   "language": "python",
   "name": "python3"
  },
  "language_info": {
   "codemirror_mode": {
    "name": "ipython",
    "version": 3
   },
   "file_extension": ".py",
   "mimetype": "text/x-python",
   "name": "python",
   "nbconvert_exporter": "python",
   "pygments_lexer": "ipython3",
   "version": "3.11.5"
  }
 },
 "nbformat": 4,
 "nbformat_minor": 5
}
