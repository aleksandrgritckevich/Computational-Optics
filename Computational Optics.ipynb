{
 "cells": [
  {
   "cell_type": "code",
   "execution_count": 16,
   "id": "5d776276",
   "metadata": {},
   "outputs": [],
   "source": [
    "from rayoptics.environment import *\n",
    "\n",
    "import warnings\n",
    "warnings.filterwarnings(\"ignore\")"
   ]
  },
  {
   "cell_type": "code",
   "execution_count": 17,
   "id": "9ef32c40",
   "metadata": {},
   "outputs": [],
   "source": [
    "# Создаем модель\n",
    "opm = OpticalModel()\n",
    "sm  = opm['seq_model']\n",
    "osp = opm['optical_spec']\n",
    "\n",
    "# Я сильно уменьшил размер апертуры по сравнению с бенчмарком.\n",
    "osp['pupil'] = PupilSpec(osp, key=['image', 'f/#'], value=0.5518259900000021)\n",
    "\n",
    "# FOV и WVLS просто копирую из бенчмарка.\n",
    "osp['fov'] = FieldSpec(osp)\n",
    "osp['fov'].fields = [Field(x=0.0, y=0.0, wt=1.0),Field(x=0.0, y=5.0, wt=1.0),\\\n",
    "                                     Field(x=0.0, y=10.0, wt=1.0),Field(x=0.0, y=15.0, wt=1.0),\\\n",
    "                                     Field(x=0.0, y=20.0, wt=1.0)]\n",
    "osp['fov'].key = ('field', 'object', 'angle')\n",
    "\n",
    "osp['wvls'] = WvlSpec()\n",
    "osp['wvls'].wavelengths = [470.0, 650.0]\n",
    "osp['wvls'].reference_wvl = 1\n",
    "osp['wvls'].spectral_wts = [1.0, 1.0]\n",
    "\n",
    "\n",
    "# Далее модель с двумя линзами из бенчмарка, но с оптимизированными параметрами.           \n",
    "sm.gaps[0].thi=1e10          \n",
    "\n",
    "sm.add_surface([0.273662,1.0062891000000103,1.5401685000000016,300.04722189997284])\n",
    "sm.ifcs[sm.cur_surface].profile = EvenPolynomial(c=0.2717923174694473, cc=0.20953600000001893,\\\n",
    "                                                 coefs=[-0.0010989999999999913, 0.0043877984092841795,\\\n",
    "                                                        -0.032009492008505676, 0.018667068093889395,\\\n",
    "                                                        -0.00609934838046761, 0.0, 0.0, 0.0])\n",
    "sm.set_stop()\n",
    "            \n",
    "sm.add_surface([0.136876, 0.6090511999999884])\n",
    "sm.ifcs[sm.cur_surface].profile = EvenPolynomial(c=0.1368758294495027, cc=0.7044354999998903,\\\n",
    "                                                 coefs=[0.007148999999999966, -0.02094622826807831,\\\n",
    "                                                        -0.02550172938524684, 0.011840727876535166,\\\n",
    "                                                        -0.006066076522231744, 0.0, 0.0, 0.0])\n",
    "            \n",
    "sm.add_surface([-0.053030,1.0060513,1.6810459999999943,944.938401900033])\n",
    "sm.ifcs[sm.cur_surface].profile = EvenPolynomial(c=-0.053029803982244716, cc=0.10779099999999808,\\\n",
    "                                                 coefs=[0.004011500000000086, -0.021548946321777635,\\\n",
    "                                                        0.010837054928462032, -0.020673170650183165,\\\n",
    "                                                        0.007328346642273065, 0.0, 0.0, 0.0])\n",
    "\n",
    "sm.add_surface([-0.259239, 4.197448590000062])\n",
    "sm.ifcs[sm.cur_surface].profile = Spherical(c=-0.25923884749269116)\n",
    "\n",
    "opm.update_model()"
   ]
  },
  {
   "cell_type": "code",
   "execution_count": 18,
   "id": "13648f71",
   "metadata": {},
   "outputs": [],
   "source": [
    "opm.save_model(\"final_model.roa\")"
   ]
  }
 ],
 "metadata": {
  "kernelspec": {
   "display_name": "Python 3 (ipykernel)",
   "language": "python",
   "name": "python3"
  },
  "language_info": {
   "codemirror_mode": {
    "name": "ipython",
    "version": 3
   },
   "file_extension": ".py",
   "mimetype": "text/x-python",
   "name": "python",
   "nbconvert_exporter": "python",
   "pygments_lexer": "ipython3",
   "version": "3.11.5"
  }
 },
 "nbformat": 4,
 "nbformat_minor": 5
}
