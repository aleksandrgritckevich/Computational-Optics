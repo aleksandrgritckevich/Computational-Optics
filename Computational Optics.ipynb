{
 "cells": [
  {
   "cell_type": "code",
   "execution_count": 19,
   "id": "5d776276",
   "metadata": {},
   "outputs": [],
   "source": [
    "from rayoptics.environment import *\n",
    "\n",
    "import warnings\n",
    "warnings.filterwarnings(\"ignore\")"
   ]
  },
  {
   "cell_type": "code",
   "execution_count": 36,
   "id": "9ef32c40",
   "metadata": {},
   "outputs": [],
   "source": [
    "# Создаем модель\n",
    "opm = OpticalModel()\n",
    "sm  = opm['seq_model']\n",
    "osp = opm['optical_spec']\n",
    "\n",
    "# Я сильно уменьшил размер апертуры по сравнению с бенчмарком.\n",
    "osp['pupil'] = PupilSpec(osp, key=['image', 'f/#'], value=0.28529999999999883)\n",
    "\n",
    "# FOV и WVLS просто копирую из бенчмарка.\n",
    "osp['fov'] = FieldSpec(osp)\n",
    "osp['fov'].fields = [Field(x=0.0, y=0.0, wt=1.0),Field(x=0.0, y=5.0, wt=1.0),\\\n",
    "                                     Field(x=0.0, y=10.0, wt=1.0),Field(x=0.0, y=15.0, wt=1.0),\\\n",
    "                                     Field(x=0.0, y=20.0, wt=1.0)]\n",
    "osp['fov'].key = ('field', 'object', 'angle')\n",
    "\n",
    "osp['wvls'] = WvlSpec()\n",
    "osp['wvls'].wavelengths = [470.0, 650.0]\n",
    "osp['wvls'].reference_wvl = 1\n",
    "osp['wvls'].spectral_wts = [1.0, 1.0]\n",
    "\n",
    "\n",
    "# Далее модель с двумя линзами из бенчмарка, но с оптимизированными параметрами.           \n",
    "sm.gaps[0].thi=1e10          \n",
    "\n",
    "sm.add_surface([0.273662,1.0029999999999997,1.5401685000000016,300.04722189997284])\n",
    "sm.ifcs[sm.cur_surface].profile = EvenPolynomial(c=0.2717923174694473, cc=0.20872498601794853,\\\n",
    "                                                 coefs=[-0.0011037046191165762, 0.0043907273578818375,\\\n",
    "                                                        -0.03199139254632031, 0.01864673509271174,\\\n",
    "                                                        -0.006101842128810322, 0.0, 0.0, 0.0])\n",
    "sm.set_stop()\n",
    "            \n",
    "sm.add_surface([0.136876, 0.6068511999999875])\n",
    "sm.ifcs[sm.cur_surface].profile = EvenPolynomial(c=0.1368758294495027, cc=0.7048445002192522,\\\n",
    "                                                 coefs=[0.007140376420552546, -0.021078513893451636,\\\n",
    "                                                        -0.02572391995521747, 0.011298013516980893,\\\n",
    "                                                        -0.006510599605409431, 0.0, 0.0, 0.0])\n",
    "            \n",
    "sm.add_surface([-0.053030,1.0089512999999986,1.6810459999999943,944.938401900033])\n",
    "sm.ifcs[sm.cur_surface].profile = EvenPolynomial(c=-0.053029803982244716, cc=0.1086800000023432,\\\n",
    "                                                 coefs=[0.003914350629294174, -0.02174082752518753,\\\n",
    "                                                        0.01076469750951752, -0.021340949622496077,\\\n",
    "                                                        0.006528620118978609, 0.0, 0.0, 0.0])\n",
    "\n",
    "sm.add_surface([-0.259239, 4.197448590000062])\n",
    "sm.ifcs[sm.cur_surface].profile = Spherical(c=-0.25923884749269116)\n",
    "\n",
    "opm.update_model()"
   ]
  },
  {
   "cell_type": "code",
   "execution_count": 37,
   "id": "13648f71",
   "metadata": {},
   "outputs": [],
   "source": [
    "opm.save_model(\"final_model.roa\")"
   ]
  }
 ],
 "metadata": {
  "kernelspec": {
   "display_name": "Python 3 (ipykernel)",
   "language": "python",
   "name": "python3"
  },
  "language_info": {
   "codemirror_mode": {
    "name": "ipython",
    "version": 3
   },
   "file_extension": ".py",
   "mimetype": "text/x-python",
   "name": "python",
   "nbconvert_exporter": "python",
   "pygments_lexer": "ipython3",
   "version": "3.11.5"
  }
 },
 "nbformat": 4,
 "nbformat_minor": 5
}
